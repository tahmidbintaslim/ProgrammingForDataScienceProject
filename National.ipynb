{
 "cells": [
  {
   "cell_type": "code",
   "execution_count": 40,
   "metadata": {},
   "outputs": [],
   "source": [
    "#Import Libraries\n",
    "import numpy as np\n",
    "import pandas as pd\n",
    "import matplotlib as mpl\n",
    "import matplotlib.pyplot as plt\n",
    "%matplotlib inline"
   ]
  },
  {
   "cell_type": "code",
   "execution_count": 65,
   "metadata": {},
   "outputs": [
    {
     "name": "stdout",
     "output_type": "stream",
     "text": [
      "            Nation  Year  \\\n",
      "0      AFGHANISTAN  1949   \n",
      "1      AFGHANISTAN  1950   \n",
      "2      AFGHANISTAN  1951   \n",
      "3      AFGHANISTAN  1952   \n",
      "4      AFGHANISTAN  1953   \n",
      "...            ...   ...   \n",
      "17227     ZIMBABWE  2010   \n",
      "17228     ZIMBABWE  2011   \n",
      "17229     ZIMBABWE  2012   \n",
      "17230     ZIMBABWE  2013   \n",
      "17231     ZIMBABWE  2014   \n",
      "\n",
      "       Total CO2 emissions from fossil-fuels and cement production (thousand metric tons of C)  \\\n",
      "0                                                      4                                         \n",
      "1                                                     23                                         \n",
      "2                                                     25                                         \n",
      "3                                                     25                                         \n",
      "4                                                     29                                         \n",
      "...                                                  ...                                         \n",
      "17227                                               2121                                         \n",
      "17228                                               2608                                         \n",
      "17229                                               2125                                         \n",
      "17230                                               3184                                         \n",
      "17231                                               3278                                         \n",
      "\n",
      "      Emissions from solid fuel consumption  \\\n",
      "0                                         4   \n",
      "1                                         6   \n",
      "2                                         7   \n",
      "3                                         9   \n",
      "4                                        10   \n",
      "...                                     ...   \n",
      "17227                                  1531   \n",
      "17228                                  1584   \n",
      "17229                                   917   \n",
      "17230                                  1902   \n",
      "17231                                  2097   \n",
      "\n",
      "      Emissions from liquid fuel consumption  \\\n",
      "0                                          0   \n",
      "1                                         18   \n",
      "2                                         18   \n",
      "3                                         17   \n",
      "4                                         18   \n",
      "...                                      ...   \n",
      "17227                                    481   \n",
      "17228                                    888   \n",
      "17229                                   1006   \n",
      "17230                                   1119   \n",
      "17231                                   1005   \n",
      "\n",
      "      Emissions from gas fuel consumption  Emissions from cement production  \\\n",
      "0                                       0                                 0   \n",
      "1                                       0                                 0   \n",
      "2                                       0                                 0   \n",
      "3                                       0                                 0   \n",
      "4                                       0                                 0   \n",
      "...                                   ...                               ...   \n",
      "17227                                   0                               109   \n",
      "17228                                   0                               136   \n",
      "17229                                   0                               201   \n",
      "17230                                   0                               162   \n",
      "17231                                   0                               177   \n",
      "\n",
      "      Emissions from gas flaring  \\\n",
      "0                            NaN   \n",
      "1                              0   \n",
      "2                              0   \n",
      "3                              0   \n",
      "4                              0   \n",
      "...                          ...   \n",
      "17227                          0   \n",
      "17228                          0   \n",
      "17229                          0   \n",
      "17230                          0   \n",
      "17231                          0   \n",
      "\n",
      "      Per capita CO2 emissions (metric tons of carbon)  \\\n",
      "0                                                  NaN   \n",
      "1                                                    0   \n",
      "2                                                    0   \n",
      "3                                                    0   \n",
      "4                                                    0   \n",
      "...                                                ...   \n",
      "17227                                             0.15   \n",
      "17228                                             0.18   \n",
      "17229                                             0.15   \n",
      "17230                                             0.21   \n",
      "17231                                             0.22   \n",
      "\n",
      "       Emissions from bunker fuels (not included in the totals)  \n",
      "0                                                      0         \n",
      "1                                                      0         \n",
      "2                                                      0         \n",
      "3                                                      0         \n",
      "4                                                      0         \n",
      "...                                                  ...         \n",
      "17227                                                  7         \n",
      "17228                                                  8         \n",
      "17229                                                  9         \n",
      "17230                                                  9         \n",
      "17231                                                  9         \n",
      "\n",
      "[17232 rows x 10 columns]\n"
     ]
    }
   ],
   "source": [
    "data = pd.read_csv(r\"C:\\Users\\Lenovo\\Documents\\GitHub\\ProgrammingForDataScienceProject\\Data\\nation.1751_2014.csv\")\n",
    "print(data)"
   ]
  },
  {
   "cell_type": "code",
   "execution_count": 66,
   "metadata": {},
   "outputs": [
    {
     "data": {
      "text/html": [
       "<div>\n",
       "<style scoped>\n",
       "    .dataframe tbody tr th:only-of-type {\n",
       "        vertical-align: middle;\n",
       "    }\n",
       "\n",
       "    .dataframe tbody tr th {\n",
       "        vertical-align: top;\n",
       "    }\n",
       "\n",
       "    .dataframe thead th {\n",
       "        text-align: right;\n",
       "    }\n",
       "</style>\n",
       "<table border=\"1\" class=\"dataframe\">\n",
       "  <thead>\n",
       "    <tr style=\"text-align: right;\">\n",
       "      <th></th>\n",
       "      <th>Nation</th>\n",
       "      <th>Year</th>\n",
       "      <th>Total CO2 emissions from fossil-fuels and cement production (thousand metric tons of C)</th>\n",
       "      <th>Emissions from solid fuel consumption</th>\n",
       "      <th>Emissions from liquid fuel consumption</th>\n",
       "      <th>Emissions from gas fuel consumption</th>\n",
       "      <th>Emissions from cement production</th>\n",
       "      <th>Emissions from gas flaring</th>\n",
       "      <th>Per capita CO2 emissions (metric tons of carbon)</th>\n",
       "      <th>Emissions from bunker fuels (not included in the totals)</th>\n",
       "    </tr>\n",
       "  </thead>\n",
       "  <tbody>\n",
       "    <tr>\n",
       "      <th>0</th>\n",
       "      <td>AFGHANISTAN</td>\n",
       "      <td>1949</td>\n",
       "      <td>4</td>\n",
       "      <td>4</td>\n",
       "      <td>0</td>\n",
       "      <td>0</td>\n",
       "      <td>0</td>\n",
       "      <td>NaN</td>\n",
       "      <td>NaN</td>\n",
       "      <td>0</td>\n",
       "    </tr>\n",
       "    <tr>\n",
       "      <th>1</th>\n",
       "      <td>AFGHANISTAN</td>\n",
       "      <td>1950</td>\n",
       "      <td>23</td>\n",
       "      <td>6</td>\n",
       "      <td>18</td>\n",
       "      <td>0</td>\n",
       "      <td>0</td>\n",
       "      <td>0</td>\n",
       "      <td>0</td>\n",
       "      <td>0</td>\n",
       "    </tr>\n",
       "    <tr>\n",
       "      <th>2</th>\n",
       "      <td>AFGHANISTAN</td>\n",
       "      <td>1951</td>\n",
       "      <td>25</td>\n",
       "      <td>7</td>\n",
       "      <td>18</td>\n",
       "      <td>0</td>\n",
       "      <td>0</td>\n",
       "      <td>0</td>\n",
       "      <td>0</td>\n",
       "      <td>0</td>\n",
       "    </tr>\n",
       "    <tr>\n",
       "      <th>3</th>\n",
       "      <td>AFGHANISTAN</td>\n",
       "      <td>1952</td>\n",
       "      <td>25</td>\n",
       "      <td>9</td>\n",
       "      <td>17</td>\n",
       "      <td>0</td>\n",
       "      <td>0</td>\n",
       "      <td>0</td>\n",
       "      <td>0</td>\n",
       "      <td>0</td>\n",
       "    </tr>\n",
       "    <tr>\n",
       "      <th>4</th>\n",
       "      <td>AFGHANISTAN</td>\n",
       "      <td>1953</td>\n",
       "      <td>29</td>\n",
       "      <td>10</td>\n",
       "      <td>18</td>\n",
       "      <td>0</td>\n",
       "      <td>0</td>\n",
       "      <td>0</td>\n",
       "      <td>0</td>\n",
       "      <td>0</td>\n",
       "    </tr>\n",
       "    <tr>\n",
       "      <th>5</th>\n",
       "      <td>AFGHANISTAN</td>\n",
       "      <td>1954</td>\n",
       "      <td>29</td>\n",
       "      <td>12</td>\n",
       "      <td>18</td>\n",
       "      <td>0</td>\n",
       "      <td>0</td>\n",
       "      <td>0</td>\n",
       "      <td>0</td>\n",
       "      <td>0</td>\n",
       "    </tr>\n",
       "    <tr>\n",
       "      <th>6</th>\n",
       "      <td>AFGHANISTAN</td>\n",
       "      <td>1955</td>\n",
       "      <td>42</td>\n",
       "      <td>17</td>\n",
       "      <td>25</td>\n",
       "      <td>0</td>\n",
       "      <td>0</td>\n",
       "      <td>0</td>\n",
       "      <td>0</td>\n",
       "      <td>0</td>\n",
       "    </tr>\n",
       "    <tr>\n",
       "      <th>7</th>\n",
       "      <td>AFGHANISTAN</td>\n",
       "      <td>1956</td>\n",
       "      <td>50</td>\n",
       "      <td>17</td>\n",
       "      <td>33</td>\n",
       "      <td>0</td>\n",
       "      <td>0</td>\n",
       "      <td>0</td>\n",
       "      <td>0.01</td>\n",
       "      <td>0</td>\n",
       "    </tr>\n",
       "    <tr>\n",
       "      <th>8</th>\n",
       "      <td>AFGHANISTAN</td>\n",
       "      <td>1957</td>\n",
       "      <td>80</td>\n",
       "      <td>21</td>\n",
       "      <td>59</td>\n",
       "      <td>0</td>\n",
       "      <td>0</td>\n",
       "      <td>0</td>\n",
       "      <td>0.01</td>\n",
       "      <td>0</td>\n",
       "    </tr>\n",
       "    <tr>\n",
       "      <th>9</th>\n",
       "      <td>AFGHANISTAN</td>\n",
       "      <td>1958</td>\n",
       "      <td>90</td>\n",
       "      <td>25</td>\n",
       "      <td>65</td>\n",
       "      <td>0</td>\n",
       "      <td>0</td>\n",
       "      <td>0</td>\n",
       "      <td>0.01</td>\n",
       "      <td>0</td>\n",
       "    </tr>\n",
       "  </tbody>\n",
       "</table>\n",
       "</div>"
      ],
      "text/plain": [
       "        Nation  Year  \\\n",
       "0  AFGHANISTAN  1949   \n",
       "1  AFGHANISTAN  1950   \n",
       "2  AFGHANISTAN  1951   \n",
       "3  AFGHANISTAN  1952   \n",
       "4  AFGHANISTAN  1953   \n",
       "5  AFGHANISTAN  1954   \n",
       "6  AFGHANISTAN  1955   \n",
       "7  AFGHANISTAN  1956   \n",
       "8  AFGHANISTAN  1957   \n",
       "9  AFGHANISTAN  1958   \n",
       "\n",
       "   Total CO2 emissions from fossil-fuels and cement production (thousand metric tons of C)  \\\n",
       "0                                                  4                                         \n",
       "1                                                 23                                         \n",
       "2                                                 25                                         \n",
       "3                                                 25                                         \n",
       "4                                                 29                                         \n",
       "5                                                 29                                         \n",
       "6                                                 42                                         \n",
       "7                                                 50                                         \n",
       "8                                                 80                                         \n",
       "9                                                 90                                         \n",
       "\n",
       "  Emissions from solid fuel consumption  \\\n",
       "0                                     4   \n",
       "1                                     6   \n",
       "2                                     7   \n",
       "3                                     9   \n",
       "4                                    10   \n",
       "5                                    12   \n",
       "6                                    17   \n",
       "7                                    17   \n",
       "8                                    21   \n",
       "9                                    25   \n",
       "\n",
       "  Emissions from liquid fuel consumption Emissions from gas fuel consumption  \\\n",
       "0                                      0                                   0   \n",
       "1                                     18                                   0   \n",
       "2                                     18                                   0   \n",
       "3                                     17                                   0   \n",
       "4                                     18                                   0   \n",
       "5                                     18                                   0   \n",
       "6                                     25                                   0   \n",
       "7                                     33                                   0   \n",
       "8                                     59                                   0   \n",
       "9                                     65                                   0   \n",
       "\n",
       "   Emissions from cement production Emissions from gas flaring  \\\n",
       "0                                 0                        NaN   \n",
       "1                                 0                          0   \n",
       "2                                 0                          0   \n",
       "3                                 0                          0   \n",
       "4                                 0                          0   \n",
       "5                                 0                          0   \n",
       "6                                 0                          0   \n",
       "7                                 0                          0   \n",
       "8                                 0                          0   \n",
       "9                                 0                          0   \n",
       "\n",
       "  Per capita CO2 emissions (metric tons of carbon)  \\\n",
       "0                                              NaN   \n",
       "1                                                0   \n",
       "2                                                0   \n",
       "3                                                0   \n",
       "4                                                0   \n",
       "5                                                0   \n",
       "6                                                0   \n",
       "7                                             0.01   \n",
       "8                                             0.01   \n",
       "9                                             0.01   \n",
       "\n",
       "   Emissions from bunker fuels (not included in the totals)  \n",
       "0                                                  0         \n",
       "1                                                  0         \n",
       "2                                                  0         \n",
       "3                                                  0         \n",
       "4                                                  0         \n",
       "5                                                  0         \n",
       "6                                                  0         \n",
       "7                                                  0         \n",
       "8                                                  0         \n",
       "9                                                  0         "
      ]
     },
     "execution_count": 66,
     "metadata": {},
     "output_type": "execute_result"
    }
   ],
   "source": [
    "data.head(10)"
   ]
  },
  {
   "cell_type": "code",
   "execution_count": 67,
   "metadata": {},
   "outputs": [
    {
     "data": {
      "text/plain": [
       "(17232, 10)"
      ]
     },
     "execution_count": 67,
     "metadata": {},
     "output_type": "execute_result"
    }
   ],
   "source": [
    "#return size of rows and cols\n",
    "data.shape"
   ]
  },
  {
   "cell_type": "code",
   "execution_count": 68,
   "metadata": {},
   "outputs": [
    {
     "data": {
      "text/plain": [
       "RangeIndex(start=0, stop=17232, step=1)"
      ]
     },
     "execution_count": 68,
     "metadata": {},
     "output_type": "execute_result"
    }
   ],
   "source": [
    "data.index"
   ]
  },
  {
   "cell_type": "code",
   "execution_count": 69,
   "metadata": {},
   "outputs": [
    {
     "data": {
      "text/plain": [
       "Index(['Nation', 'Year',\n",
       "       'Total CO2 emissions from fossil-fuels and cement production (thousand metric tons of C)',\n",
       "       'Emissions from solid fuel consumption',\n",
       "       'Emissions from liquid fuel consumption',\n",
       "       'Emissions from gas fuel consumption',\n",
       "       'Emissions from cement production', 'Emissions from gas flaring',\n",
       "       'Per capita CO2 emissions (metric tons of carbon)',\n",
       "       'Emissions from bunker fuels (not included in the totals)'],\n",
       "      dtype='object')"
      ]
     },
     "execution_count": 69,
     "metadata": {},
     "output_type": "execute_result"
    }
   ],
   "source": [
    "data.columns"
   ]
  },
  {
   "cell_type": "code",
   "execution_count": 70,
   "metadata": {},
   "outputs": [
    {
     "data": {
      "text/plain": [
       "Nation                                                                                     AFGHANISTAN\n",
       "Year                                                                                              1949\n",
       "Total CO2 emissions from fossil-fuels and cement production (thousand metric tons of C)              4\n",
       "Emissions from solid fuel consumption                                                                4\n",
       "Emissions from liquid fuel consumption                                                               0\n",
       "Emissions from gas fuel consumption                                                                  0\n",
       "Emissions from cement production                                                                     0\n",
       "Emissions from gas flaring                                                                         NaN\n",
       "Per capita CO2 emissions (metric tons of carbon)                                                   NaN\n",
       "Emissions from bunker fuels (not included in the totals)                                             0\n",
       "Name: 0, dtype: object"
      ]
     },
     "execution_count": 70,
     "metadata": {},
     "output_type": "execute_result"
    }
   ],
   "source": [
    "data.loc[0]"
   ]
  },
  {
   "cell_type": "code",
   "execution_count": 71,
   "metadata": {},
   "outputs": [
    {
     "data": {
      "text/plain": [
       "Nation                                                                                     object\n",
       "Year                                                                                        int64\n",
       "Total CO2 emissions from fossil-fuels and cement production (thousand metric tons of C)     int64\n",
       "Emissions from solid fuel consumption                                                      object\n",
       "Emissions from liquid fuel consumption                                                     object\n",
       "Emissions from gas fuel consumption                                                        object\n",
       "Emissions from cement production                                                            int64\n",
       "Emissions from gas flaring                                                                 object\n",
       "Per capita CO2 emissions (metric tons of carbon)                                           object\n",
       "Emissions from bunker fuels (not included in the totals)                                    int64\n",
       "dtype: object"
      ]
     },
     "execution_count": 71,
     "metadata": {},
     "output_type": "execute_result"
    }
   ],
   "source": [
    "data.dtypes"
   ]
  },
  {
   "cell_type": "code",
   "execution_count": 57,
   "metadata": {},
   "outputs": [
    {
     "data": {
      "text/plain": [
       "Nation                                                                                      0\n",
       "Year                                                                                        0\n",
       "Total CO2 emissions from fossil-fuels and cement production (thousand metric tons of C)     0\n",
       "Emissions from solid fuel consumption                                                       0\n",
       "Emissions from liquid fuel consumption                                                      0\n",
       "Emissions from gas fuel consumption                                                         0\n",
       "Emissions from cement production                                                            0\n",
       "Emissions from gas flaring                                                                 58\n",
       "Per capita CO2 emissions (metric tons of carbon)                                           58\n",
       "Emissions from bunker fuels (not included in the totals)                                    0\n",
       "dtype: int64"
      ]
     },
     "execution_count": 57,
     "metadata": {},
     "output_type": "execute_result"
    }
   ],
   "source": [
    "#find missing values\n",
    "data.isna().sum()"
   ]
  },
  {
   "cell_type": "markdown",
   "metadata": {},
   "source": [
    "There are missing values in national dataset."
   ]
  },
  {
   "cell_type": "code",
   "execution_count": 62,
   "metadata": {},
   "outputs": [
    {
     "ename": "TypeError",
     "evalue": "unsupported operand type(s) for +: 'int' and 'str'",
     "output_type": "error",
     "traceback": [
      "\u001b[1;31m---------------------------------------------------------------------------\u001b[0m",
      "\u001b[1;31mTypeError\u001b[0m                                 Traceback (most recent call last)",
      "\u001b[1;32m<ipython-input-62-1fe53341c411>\u001b[0m in \u001b[0;36m<module>\u001b[1;34m\u001b[0m\n\u001b[0;32m      1\u001b[0m \u001b[1;31m#data is numeric, fill missing values with mean\u001b[0m\u001b[1;33m\u001b[0m\u001b[1;33m\u001b[0m\u001b[1;33m\u001b[0m\u001b[0m\n\u001b[1;32m----> 2\u001b[1;33m \u001b[0mdata\u001b[0m\u001b[1;33m[\u001b[0m\u001b[1;34m'Per capita CO2 emissions (metric tons of carbon)'\u001b[0m\u001b[1;33m]\u001b[0m\u001b[1;33m.\u001b[0m\u001b[0mfillna\u001b[0m\u001b[1;33m(\u001b[0m\u001b[0mdata\u001b[0m\u001b[1;33m[\u001b[0m\u001b[1;34m'Per capita CO2 emissions (metric tons of carbon)'\u001b[0m\u001b[1;33m]\u001b[0m\u001b[1;33m.\u001b[0m\u001b[0mmean\u001b[0m\u001b[1;33m(\u001b[0m\u001b[1;33m)\u001b[0m\u001b[1;33m,\u001b[0m\u001b[0minplace\u001b[0m\u001b[1;33m=\u001b[0m\u001b[1;32mTrue\u001b[0m\u001b[1;33m)\u001b[0m\u001b[1;33m\u001b[0m\u001b[1;33m\u001b[0m\u001b[0m\n\u001b[0m",
      "\u001b[1;32mC:\\ProgramData\\Anaconda3\\lib\\site-packages\\pandas\\core\\generic.py\u001b[0m in \u001b[0;36mstat_func\u001b[1;34m(self, axis, skipna, level, numeric_only, **kwargs)\u001b[0m\n\u001b[0;32m  11213\u001b[0m             \u001b[1;32mreturn\u001b[0m \u001b[0mself\u001b[0m\u001b[1;33m.\u001b[0m\u001b[0m_agg_by_level\u001b[0m\u001b[1;33m(\u001b[0m\u001b[0mname\u001b[0m\u001b[1;33m,\u001b[0m \u001b[0maxis\u001b[0m\u001b[1;33m=\u001b[0m\u001b[0maxis\u001b[0m\u001b[1;33m,\u001b[0m \u001b[0mlevel\u001b[0m\u001b[1;33m=\u001b[0m\u001b[0mlevel\u001b[0m\u001b[1;33m,\u001b[0m \u001b[0mskipna\u001b[0m\u001b[1;33m=\u001b[0m\u001b[0mskipna\u001b[0m\u001b[1;33m)\u001b[0m\u001b[1;33m\u001b[0m\u001b[1;33m\u001b[0m\u001b[0m\n\u001b[0;32m  11214\u001b[0m         return self._reduce(\n\u001b[1;32m> 11215\u001b[1;33m             \u001b[0mf\u001b[0m\u001b[1;33m,\u001b[0m \u001b[0mname\u001b[0m\u001b[1;33m,\u001b[0m \u001b[0maxis\u001b[0m\u001b[1;33m=\u001b[0m\u001b[0maxis\u001b[0m\u001b[1;33m,\u001b[0m \u001b[0mskipna\u001b[0m\u001b[1;33m=\u001b[0m\u001b[0mskipna\u001b[0m\u001b[1;33m,\u001b[0m \u001b[0mnumeric_only\u001b[0m\u001b[1;33m=\u001b[0m\u001b[0mnumeric_only\u001b[0m\u001b[1;33m\u001b[0m\u001b[1;33m\u001b[0m\u001b[0m\n\u001b[0m\u001b[0;32m  11216\u001b[0m         )\n\u001b[0;32m  11217\u001b[0m \u001b[1;33m\u001b[0m\u001b[0m\n",
      "\u001b[1;32mC:\\ProgramData\\Anaconda3\\lib\\site-packages\\pandas\\core\\series.py\u001b[0m in \u001b[0;36m_reduce\u001b[1;34m(self, op, name, axis, skipna, numeric_only, filter_type, **kwds)\u001b[0m\n\u001b[0;32m   3889\u001b[0m                 )\n\u001b[0;32m   3890\u001b[0m             \u001b[1;32mwith\u001b[0m \u001b[0mnp\u001b[0m\u001b[1;33m.\u001b[0m\u001b[0merrstate\u001b[0m\u001b[1;33m(\u001b[0m\u001b[0mall\u001b[0m\u001b[1;33m=\u001b[0m\u001b[1;34m\"ignore\"\u001b[0m\u001b[1;33m)\u001b[0m\u001b[1;33m:\u001b[0m\u001b[1;33m\u001b[0m\u001b[1;33m\u001b[0m\u001b[0m\n\u001b[1;32m-> 3891\u001b[1;33m                 \u001b[1;32mreturn\u001b[0m \u001b[0mop\u001b[0m\u001b[1;33m(\u001b[0m\u001b[0mdelegate\u001b[0m\u001b[1;33m,\u001b[0m \u001b[0mskipna\u001b[0m\u001b[1;33m=\u001b[0m\u001b[0mskipna\u001b[0m\u001b[1;33m,\u001b[0m \u001b[1;33m**\u001b[0m\u001b[0mkwds\u001b[0m\u001b[1;33m)\u001b[0m\u001b[1;33m\u001b[0m\u001b[1;33m\u001b[0m\u001b[0m\n\u001b[0m\u001b[0;32m   3892\u001b[0m \u001b[1;33m\u001b[0m\u001b[0m\n\u001b[0;32m   3893\u001b[0m         \u001b[1;31m# TODO(EA) dispatch to Index\u001b[0m\u001b[1;33m\u001b[0m\u001b[1;33m\u001b[0m\u001b[1;33m\u001b[0m\u001b[0m\n",
      "\u001b[1;32mC:\\ProgramData\\Anaconda3\\lib\\site-packages\\pandas\\core\\nanops.py\u001b[0m in \u001b[0;36m_f\u001b[1;34m(*args, **kwargs)\u001b[0m\n\u001b[0;32m     67\u001b[0m             \u001b[1;32mtry\u001b[0m\u001b[1;33m:\u001b[0m\u001b[1;33m\u001b[0m\u001b[1;33m\u001b[0m\u001b[0m\n\u001b[0;32m     68\u001b[0m                 \u001b[1;32mwith\u001b[0m \u001b[0mnp\u001b[0m\u001b[1;33m.\u001b[0m\u001b[0merrstate\u001b[0m\u001b[1;33m(\u001b[0m\u001b[0minvalid\u001b[0m\u001b[1;33m=\u001b[0m\u001b[1;34m\"ignore\"\u001b[0m\u001b[1;33m)\u001b[0m\u001b[1;33m:\u001b[0m\u001b[1;33m\u001b[0m\u001b[1;33m\u001b[0m\u001b[0m\n\u001b[1;32m---> 69\u001b[1;33m                     \u001b[1;32mreturn\u001b[0m \u001b[0mf\u001b[0m\u001b[1;33m(\u001b[0m\u001b[1;33m*\u001b[0m\u001b[0margs\u001b[0m\u001b[1;33m,\u001b[0m \u001b[1;33m**\u001b[0m\u001b[0mkwargs\u001b[0m\u001b[1;33m)\u001b[0m\u001b[1;33m\u001b[0m\u001b[1;33m\u001b[0m\u001b[0m\n\u001b[0m\u001b[0;32m     70\u001b[0m             \u001b[1;32mexcept\u001b[0m \u001b[0mValueError\u001b[0m \u001b[1;32mas\u001b[0m \u001b[0me\u001b[0m\u001b[1;33m:\u001b[0m\u001b[1;33m\u001b[0m\u001b[1;33m\u001b[0m\u001b[0m\n\u001b[0;32m     71\u001b[0m                 \u001b[1;31m# we want to transform an object array\u001b[0m\u001b[1;33m\u001b[0m\u001b[1;33m\u001b[0m\u001b[1;33m\u001b[0m\u001b[0m\n",
      "\u001b[1;32mC:\\ProgramData\\Anaconda3\\lib\\site-packages\\pandas\\core\\nanops.py\u001b[0m in \u001b[0;36mf\u001b[1;34m(values, axis, skipna, **kwds)\u001b[0m\n\u001b[0;32m    123\u001b[0m                     \u001b[0mresult\u001b[0m \u001b[1;33m=\u001b[0m \u001b[0malt\u001b[0m\u001b[1;33m(\u001b[0m\u001b[0mvalues\u001b[0m\u001b[1;33m,\u001b[0m \u001b[0maxis\u001b[0m\u001b[1;33m=\u001b[0m\u001b[0maxis\u001b[0m\u001b[1;33m,\u001b[0m \u001b[0mskipna\u001b[0m\u001b[1;33m=\u001b[0m\u001b[0mskipna\u001b[0m\u001b[1;33m,\u001b[0m \u001b[1;33m**\u001b[0m\u001b[0mkwds\u001b[0m\u001b[1;33m)\u001b[0m\u001b[1;33m\u001b[0m\u001b[1;33m\u001b[0m\u001b[0m\n\u001b[0;32m    124\u001b[0m             \u001b[1;32melse\u001b[0m\u001b[1;33m:\u001b[0m\u001b[1;33m\u001b[0m\u001b[1;33m\u001b[0m\u001b[0m\n\u001b[1;32m--> 125\u001b[1;33m                 \u001b[0mresult\u001b[0m \u001b[1;33m=\u001b[0m \u001b[0malt\u001b[0m\u001b[1;33m(\u001b[0m\u001b[0mvalues\u001b[0m\u001b[1;33m,\u001b[0m \u001b[0maxis\u001b[0m\u001b[1;33m=\u001b[0m\u001b[0maxis\u001b[0m\u001b[1;33m,\u001b[0m \u001b[0mskipna\u001b[0m\u001b[1;33m=\u001b[0m\u001b[0mskipna\u001b[0m\u001b[1;33m,\u001b[0m \u001b[1;33m**\u001b[0m\u001b[0mkwds\u001b[0m\u001b[1;33m)\u001b[0m\u001b[1;33m\u001b[0m\u001b[1;33m\u001b[0m\u001b[0m\n\u001b[0m\u001b[0;32m    126\u001b[0m \u001b[1;33m\u001b[0m\u001b[0m\n\u001b[0;32m    127\u001b[0m             \u001b[1;32mreturn\u001b[0m \u001b[0mresult\u001b[0m\u001b[1;33m\u001b[0m\u001b[1;33m\u001b[0m\u001b[0m\n",
      "\u001b[1;32mC:\\ProgramData\\Anaconda3\\lib\\site-packages\\pandas\\core\\nanops.py\u001b[0m in \u001b[0;36mnanmean\u001b[1;34m(values, axis, skipna, mask)\u001b[0m\n\u001b[0;32m    540\u001b[0m         \u001b[0mdtype_count\u001b[0m \u001b[1;33m=\u001b[0m \u001b[0mdtype\u001b[0m\u001b[1;33m\u001b[0m\u001b[1;33m\u001b[0m\u001b[0m\n\u001b[0;32m    541\u001b[0m     \u001b[0mcount\u001b[0m \u001b[1;33m=\u001b[0m \u001b[0m_get_counts\u001b[0m\u001b[1;33m(\u001b[0m\u001b[0mvalues\u001b[0m\u001b[1;33m.\u001b[0m\u001b[0mshape\u001b[0m\u001b[1;33m,\u001b[0m \u001b[0mmask\u001b[0m\u001b[1;33m,\u001b[0m \u001b[0maxis\u001b[0m\u001b[1;33m,\u001b[0m \u001b[0mdtype\u001b[0m\u001b[1;33m=\u001b[0m\u001b[0mdtype_count\u001b[0m\u001b[1;33m)\u001b[0m\u001b[1;33m\u001b[0m\u001b[1;33m\u001b[0m\u001b[0m\n\u001b[1;32m--> 542\u001b[1;33m     \u001b[0mthe_sum\u001b[0m \u001b[1;33m=\u001b[0m \u001b[0m_ensure_numeric\u001b[0m\u001b[1;33m(\u001b[0m\u001b[0mvalues\u001b[0m\u001b[1;33m.\u001b[0m\u001b[0msum\u001b[0m\u001b[1;33m(\u001b[0m\u001b[0maxis\u001b[0m\u001b[1;33m,\u001b[0m \u001b[0mdtype\u001b[0m\u001b[1;33m=\u001b[0m\u001b[0mdtype_sum\u001b[0m\u001b[1;33m)\u001b[0m\u001b[1;33m)\u001b[0m\u001b[1;33m\u001b[0m\u001b[1;33m\u001b[0m\u001b[0m\n\u001b[0m\u001b[0;32m    543\u001b[0m \u001b[1;33m\u001b[0m\u001b[0m\n\u001b[0;32m    544\u001b[0m     \u001b[1;32mif\u001b[0m \u001b[0maxis\u001b[0m \u001b[1;32mis\u001b[0m \u001b[1;32mnot\u001b[0m \u001b[1;32mNone\u001b[0m \u001b[1;32mand\u001b[0m \u001b[0mgetattr\u001b[0m\u001b[1;33m(\u001b[0m\u001b[0mthe_sum\u001b[0m\u001b[1;33m,\u001b[0m \u001b[1;34m\"ndim\"\u001b[0m\u001b[1;33m,\u001b[0m \u001b[1;32mFalse\u001b[0m\u001b[1;33m)\u001b[0m\u001b[1;33m:\u001b[0m\u001b[1;33m\u001b[0m\u001b[1;33m\u001b[0m\u001b[0m\n",
      "\u001b[1;32mC:\\ProgramData\\Anaconda3\\lib\\site-packages\\numpy\\core\\_methods.py\u001b[0m in \u001b[0;36m_sum\u001b[1;34m(a, axis, dtype, out, keepdims, initial, where)\u001b[0m\n\u001b[0;32m     36\u001b[0m def _sum(a, axis=None, dtype=None, out=None, keepdims=False,\n\u001b[0;32m     37\u001b[0m          initial=_NoValue, where=True):\n\u001b[1;32m---> 38\u001b[1;33m     \u001b[1;32mreturn\u001b[0m \u001b[0mumr_sum\u001b[0m\u001b[1;33m(\u001b[0m\u001b[0ma\u001b[0m\u001b[1;33m,\u001b[0m \u001b[0maxis\u001b[0m\u001b[1;33m,\u001b[0m \u001b[0mdtype\u001b[0m\u001b[1;33m,\u001b[0m \u001b[0mout\u001b[0m\u001b[1;33m,\u001b[0m \u001b[0mkeepdims\u001b[0m\u001b[1;33m,\u001b[0m \u001b[0minitial\u001b[0m\u001b[1;33m,\u001b[0m \u001b[0mwhere\u001b[0m\u001b[1;33m)\u001b[0m\u001b[1;33m\u001b[0m\u001b[1;33m\u001b[0m\u001b[0m\n\u001b[0m\u001b[0;32m     39\u001b[0m \u001b[1;33m\u001b[0m\u001b[0m\n\u001b[0;32m     40\u001b[0m def _prod(a, axis=None, dtype=None, out=None, keepdims=False,\n",
      "\u001b[1;31mTypeError\u001b[0m: unsupported operand type(s) for +: 'int' and 'str'"
     ]
    }
   ],
   "source": [
    "#data is numeric, fill missing values with mean\n",
    "data['Per capita CO2 emissions (metric tons of carbon)'].fillna(data['Per capita CO2 emissions (metric tons of carbon)'].mean(),inplace=True)"
   ]
  },
  {
   "cell_type": "code",
   "execution_count": null,
   "metadata": {},
   "outputs": [],
   "source": [
    "data.notnull()"
   ]
  }
 ],
 "metadata": {
  "kernelspec": {
   "display_name": "Python 3",
   "language": "python",
   "name": "python3"
  },
  "language_info": {
   "codemirror_mode": {
    "name": "ipython",
    "version": 3
   },
   "file_extension": ".py",
   "mimetype": "text/x-python",
   "name": "python",
   "nbconvert_exporter": "python",
   "pygments_lexer": "ipython3",
   "version": "3.7.7"
  }
 },
 "nbformat": 4,
 "nbformat_minor": 4
}
