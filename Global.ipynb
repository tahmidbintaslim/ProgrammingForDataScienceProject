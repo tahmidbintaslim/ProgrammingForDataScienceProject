{
 "cells": [
  {
   "cell_type": "markdown",
   "metadata": {},
   "source": [
    "# Global CO2 Emission Dataset\n",
    "All the estimations in the dataset is expresssed in  million metric tons of carbon. To\n",
    "convert these estimates to units of carbon dioxide (CO2), simply multiply, these estimates by 3.667.\n",
    "There will be 5 stages involved in this project:\n",
    "    1. Preprocessing\n",
    "    2. Data Visulizationn\n",
    "    3. Prediction\n",
    "    4. Calculation\n",
    "    5. Discussion and Conclusion"
   ]
  },
  {
   "cell_type": "code",
   "execution_count": 1,
   "metadata": {},
   "outputs": [],
   "source": [
    "\n",
    "#Import Libraries\n",
    "import numpy as np\n",
    "import pandas as pd\n",
    "import matplotlib as mpl\n",
    "import matplotlib.pyplot as plt\n",
    "from datetime import datetime\n",
    "import itertools\n",
    "import statsmodels.tsa.api as smt\n",
    "from sklearn.metrics import r2_score, median_absolute_error, mean_absolute_error\n",
    "from sklearn.metrics import median_absolute_error, mean_squared_error, mean_squared_log_error\n",
    "from tqdm import tqdm_notebook\n",
    "from itertools import product\n",
    "from statsmodels.tsa.arima_model import ARMA\n",
    "from statsmodels.tsa.statespace.sarimax import SARIMAX\n",
    "from statsmodels.tsa.holtwinters import ExponentialSmoothing\n",
    "from statsmodels.tsa.holtwinters import HoltWintersResults\n",
    "from datetime import datetime\n",
    "import seaborn as sns\n",
    "%matplotlib inline\n",
    "\n",
    "#Set style\n",
    "sns.set()\n",
    "from pylab import rcParams\n",
    "rcParams['figure.figsize'] = 12, 7\n",
    "#To ignore some unimportant arnings\n",
    "import warnings\n",
    "warnings.filterwarnings('ignore')"
   ]
  },
  {
   "cell_type": "code",
   "execution_count": 78,
   "metadata": {},
   "outputs": [
    {
     "name": "stdout",
     "output_type": "stream",
     "text": [
      "            Total carbon emissions from fossil fuel consumption and cement production (million metric tons of C)  \\\n",
      "Year                                                                                                               \n",
      "1751-01-01                                                  3                                                      \n",
      "1752-01-01                                                  3                                                      \n",
      "1753-01-01                                                  3                                                      \n",
      "1754-01-01                                                  3                                                      \n",
      "1755-01-01                                                  3                                                      \n",
      "...                                                       ...                                                      \n",
      "2010-01-01                                               9128                                                      \n",
      "2011-01-01                                               9503                                                      \n",
      "2012-01-01                                               9673                                                      \n",
      "2013-01-01                                               9773                                                      \n",
      "2014-01-01                                               9855                                                      \n",
      "\n",
      "            Carbon emissions from gas fuel consumption  \\\n",
      "Year                                                     \n",
      "1751-01-01                                           0   \n",
      "1752-01-01                                           0   \n",
      "1753-01-01                                           0   \n",
      "1754-01-01                                           0   \n",
      "1755-01-01                                           0   \n",
      "...                                                ...   \n",
      "2010-01-01                                        1696   \n",
      "2011-01-01                                        1756   \n",
      "2012-01-01                                        1783   \n",
      "2013-01-01                                        1806   \n",
      "2014-01-01                                        1823   \n",
      "\n",
      "            Carbon emissions from liquid fuel consumption  \\\n",
      "Year                                                        \n",
      "1751-01-01                                              0   \n",
      "1752-01-01                                              0   \n",
      "1753-01-01                                              0   \n",
      "1754-01-01                                              0   \n",
      "1755-01-01                                              0   \n",
      "...                                                   ...   \n",
      "2010-01-01                                           3107   \n",
      "2011-01-01                                           3134   \n",
      "2012-01-01                                           3200   \n",
      "2013-01-01                                           3220   \n",
      "2014-01-01                                           3280   \n",
      "\n",
      "            Carbon emissions from solid fuel consumption  \\\n",
      "Year                                                       \n",
      "1751-01-01                                             3   \n",
      "1752-01-01                                             3   \n",
      "1753-01-01                                             3   \n",
      "1754-01-01                                             3   \n",
      "1755-01-01                                             3   \n",
      "...                                                  ...   \n",
      "2010-01-01                                          3812   \n",
      "2011-01-01                                          4055   \n",
      "2012-01-01                                          4106   \n",
      "2013-01-01                                          4126   \n",
      "2014-01-01                                          4117   \n",
      "\n",
      "            Carbon emissions from cement production  \\\n",
      "Year                                                  \n",
      "1751-01-01                                        0   \n",
      "1752-01-01                                        0   \n",
      "1753-01-01                                        0   \n",
      "1754-01-01                                        0   \n",
      "1755-01-01                                        0   \n",
      "...                                             ...   \n",
      "2010-01-01                                      446   \n",
      "2011-01-01                                      494   \n",
      "2012-01-01                                      519   \n",
      "2013-01-01                                      554   \n",
      "2014-01-01                                      568   \n",
      "\n",
      "            Carbon emissions from gas flaring  \\\n",
      "Year                                            \n",
      "1751-01-01                                  0   \n",
      "1752-01-01                                  0   \n",
      "1753-01-01                                  0   \n",
      "1754-01-01                                  0   \n",
      "1755-01-01                                  0   \n",
      "...                                       ...   \n",
      "2010-01-01                                 67   \n",
      "2011-01-01                                 64   \n",
      "2012-01-01                                 65   \n",
      "2013-01-01                                 68   \n",
      "2014-01-01                                 68   \n",
      "\n",
      "            Per capita carbon emissions (metric tons of carbon; after 1949 only)  \n",
      "Year                                                                              \n",
      "1751-01-01                                                NaN                     \n",
      "1752-01-01                                                NaN                     \n",
      "1753-01-01                                                NaN                     \n",
      "1754-01-01                                                NaN                     \n",
      "1755-01-01                                                NaN                     \n",
      "...                                                       ...                     \n",
      "2010-01-01                                               1.32                     \n",
      "2011-01-01                                               1.36                     \n",
      "2012-01-01                                               1.36                     \n",
      "2013-01-01                                               1.36                     \n",
      "2014-01-01                                               1.36                     \n",
      "\n",
      "[264 rows x 7 columns]\n"
     ]
    }
   ],
   "source": [
    "#importing Dataset\n",
    "data = pd.read_csv(r\"C:\\Users\\Lenovo\\Documents\\GitHub\\ProgrammingForDataScienceProject\\Data\\global.1751_2014.csv\",index_col='Year', parse_dates=True)\n",
    "print(data)"
   ]
  },
  {
   "cell_type": "code",
   "execution_count": 79,
   "metadata": {},
   "outputs": [
    {
     "data": {
      "text/html": [
       "<div>\n",
       "<style scoped>\n",
       "    .dataframe tbody tr th:only-of-type {\n",
       "        vertical-align: middle;\n",
       "    }\n",
       "\n",
       "    .dataframe tbody tr th {\n",
       "        vertical-align: top;\n",
       "    }\n",
       "\n",
       "    .dataframe thead th {\n",
       "        text-align: right;\n",
       "    }\n",
       "</style>\n",
       "<table border=\"1\" class=\"dataframe\">\n",
       "  <thead>\n",
       "    <tr style=\"text-align: right;\">\n",
       "      <th></th>\n",
       "      <th>Total carbon emissions from fossil fuel consumption and cement production (million metric tons of C)</th>\n",
       "      <th>Carbon emissions from gas fuel consumption</th>\n",
       "      <th>Carbon emissions from liquid fuel consumption</th>\n",
       "      <th>Carbon emissions from solid fuel consumption</th>\n",
       "      <th>Carbon emissions from cement production</th>\n",
       "      <th>Carbon emissions from gas flaring</th>\n",
       "      <th>Per capita carbon emissions (metric tons of carbon; after 1949 only)</th>\n",
       "    </tr>\n",
       "    <tr>\n",
       "      <th>Year</th>\n",
       "      <th></th>\n",
       "      <th></th>\n",
       "      <th></th>\n",
       "      <th></th>\n",
       "      <th></th>\n",
       "      <th></th>\n",
       "      <th></th>\n",
       "    </tr>\n",
       "  </thead>\n",
       "  <tbody>\n",
       "    <tr>\n",
       "      <th>1751-01-01</th>\n",
       "      <td>3</td>\n",
       "      <td>0</td>\n",
       "      <td>0</td>\n",
       "      <td>3</td>\n",
       "      <td>0</td>\n",
       "      <td>0</td>\n",
       "      <td>NaN</td>\n",
       "    </tr>\n",
       "    <tr>\n",
       "      <th>1752-01-01</th>\n",
       "      <td>3</td>\n",
       "      <td>0</td>\n",
       "      <td>0</td>\n",
       "      <td>3</td>\n",
       "      <td>0</td>\n",
       "      <td>0</td>\n",
       "      <td>NaN</td>\n",
       "    </tr>\n",
       "    <tr>\n",
       "      <th>1753-01-01</th>\n",
       "      <td>3</td>\n",
       "      <td>0</td>\n",
       "      <td>0</td>\n",
       "      <td>3</td>\n",
       "      <td>0</td>\n",
       "      <td>0</td>\n",
       "      <td>NaN</td>\n",
       "    </tr>\n",
       "    <tr>\n",
       "      <th>1754-01-01</th>\n",
       "      <td>3</td>\n",
       "      <td>0</td>\n",
       "      <td>0</td>\n",
       "      <td>3</td>\n",
       "      <td>0</td>\n",
       "      <td>0</td>\n",
       "      <td>NaN</td>\n",
       "    </tr>\n",
       "    <tr>\n",
       "      <th>1755-01-01</th>\n",
       "      <td>3</td>\n",
       "      <td>0</td>\n",
       "      <td>0</td>\n",
       "      <td>3</td>\n",
       "      <td>0</td>\n",
       "      <td>0</td>\n",
       "      <td>NaN</td>\n",
       "    </tr>\n",
       "    <tr>\n",
       "      <th>1756-01-01</th>\n",
       "      <td>3</td>\n",
       "      <td>0</td>\n",
       "      <td>0</td>\n",
       "      <td>3</td>\n",
       "      <td>0</td>\n",
       "      <td>0</td>\n",
       "      <td>NaN</td>\n",
       "    </tr>\n",
       "    <tr>\n",
       "      <th>1757-01-01</th>\n",
       "      <td>3</td>\n",
       "      <td>0</td>\n",
       "      <td>0</td>\n",
       "      <td>3</td>\n",
       "      <td>0</td>\n",
       "      <td>0</td>\n",
       "      <td>NaN</td>\n",
       "    </tr>\n",
       "    <tr>\n",
       "      <th>1758-01-01</th>\n",
       "      <td>3</td>\n",
       "      <td>0</td>\n",
       "      <td>0</td>\n",
       "      <td>3</td>\n",
       "      <td>0</td>\n",
       "      <td>0</td>\n",
       "      <td>NaN</td>\n",
       "    </tr>\n",
       "    <tr>\n",
       "      <th>1759-01-01</th>\n",
       "      <td>3</td>\n",
       "      <td>0</td>\n",
       "      <td>0</td>\n",
       "      <td>3</td>\n",
       "      <td>0</td>\n",
       "      <td>0</td>\n",
       "      <td>NaN</td>\n",
       "    </tr>\n",
       "    <tr>\n",
       "      <th>1760-01-01</th>\n",
       "      <td>3</td>\n",
       "      <td>0</td>\n",
       "      <td>0</td>\n",
       "      <td>3</td>\n",
       "      <td>0</td>\n",
       "      <td>0</td>\n",
       "      <td>NaN</td>\n",
       "    </tr>\n",
       "  </tbody>\n",
       "</table>\n",
       "</div>"
      ],
      "text/plain": [
       "            Total carbon emissions from fossil fuel consumption and cement production (million metric tons of C)  \\\n",
       "Year                                                                                                               \n",
       "1751-01-01                                                  3                                                      \n",
       "1752-01-01                                                  3                                                      \n",
       "1753-01-01                                                  3                                                      \n",
       "1754-01-01                                                  3                                                      \n",
       "1755-01-01                                                  3                                                      \n",
       "1756-01-01                                                  3                                                      \n",
       "1757-01-01                                                  3                                                      \n",
       "1758-01-01                                                  3                                                      \n",
       "1759-01-01                                                  3                                                      \n",
       "1760-01-01                                                  3                                                      \n",
       "\n",
       "            Carbon emissions from gas fuel consumption  \\\n",
       "Year                                                     \n",
       "1751-01-01                                           0   \n",
       "1752-01-01                                           0   \n",
       "1753-01-01                                           0   \n",
       "1754-01-01                                           0   \n",
       "1755-01-01                                           0   \n",
       "1756-01-01                                           0   \n",
       "1757-01-01                                           0   \n",
       "1758-01-01                                           0   \n",
       "1759-01-01                                           0   \n",
       "1760-01-01                                           0   \n",
       "\n",
       "            Carbon emissions from liquid fuel consumption  \\\n",
       "Year                                                        \n",
       "1751-01-01                                              0   \n",
       "1752-01-01                                              0   \n",
       "1753-01-01                                              0   \n",
       "1754-01-01                                              0   \n",
       "1755-01-01                                              0   \n",
       "1756-01-01                                              0   \n",
       "1757-01-01                                              0   \n",
       "1758-01-01                                              0   \n",
       "1759-01-01                                              0   \n",
       "1760-01-01                                              0   \n",
       "\n",
       "            Carbon emissions from solid fuel consumption  \\\n",
       "Year                                                       \n",
       "1751-01-01                                             3   \n",
       "1752-01-01                                             3   \n",
       "1753-01-01                                             3   \n",
       "1754-01-01                                             3   \n",
       "1755-01-01                                             3   \n",
       "1756-01-01                                             3   \n",
       "1757-01-01                                             3   \n",
       "1758-01-01                                             3   \n",
       "1759-01-01                                             3   \n",
       "1760-01-01                                             3   \n",
       "\n",
       "            Carbon emissions from cement production  \\\n",
       "Year                                                  \n",
       "1751-01-01                                        0   \n",
       "1752-01-01                                        0   \n",
       "1753-01-01                                        0   \n",
       "1754-01-01                                        0   \n",
       "1755-01-01                                        0   \n",
       "1756-01-01                                        0   \n",
       "1757-01-01                                        0   \n",
       "1758-01-01                                        0   \n",
       "1759-01-01                                        0   \n",
       "1760-01-01                                        0   \n",
       "\n",
       "            Carbon emissions from gas flaring  \\\n",
       "Year                                            \n",
       "1751-01-01                                  0   \n",
       "1752-01-01                                  0   \n",
       "1753-01-01                                  0   \n",
       "1754-01-01                                  0   \n",
       "1755-01-01                                  0   \n",
       "1756-01-01                                  0   \n",
       "1757-01-01                                  0   \n",
       "1758-01-01                                  0   \n",
       "1759-01-01                                  0   \n",
       "1760-01-01                                  0   \n",
       "\n",
       "            Per capita carbon emissions (metric tons of carbon; after 1949 only)  \n",
       "Year                                                                              \n",
       "1751-01-01                                                NaN                     \n",
       "1752-01-01                                                NaN                     \n",
       "1753-01-01                                                NaN                     \n",
       "1754-01-01                                                NaN                     \n",
       "1755-01-01                                                NaN                     \n",
       "1756-01-01                                                NaN                     \n",
       "1757-01-01                                                NaN                     \n",
       "1758-01-01                                                NaN                     \n",
       "1759-01-01                                                NaN                     \n",
       "1760-01-01                                                NaN                     "
      ]
     },
     "execution_count": 79,
     "metadata": {},
     "output_type": "execute_result"
    }
   ],
   "source": [
    "data.head(10)"
   ]
  },
  {
   "cell_type": "code",
   "execution_count": 102,
   "metadata": {},
   "outputs": [
    {
     "data": {
      "text/html": [
       "<div>\n",
       "<style scoped>\n",
       "    .dataframe tbody tr th:only-of-type {\n",
       "        vertical-align: middle;\n",
       "    }\n",
       "\n",
       "    .dataframe tbody tr th {\n",
       "        vertical-align: top;\n",
       "    }\n",
       "\n",
       "    .dataframe thead th {\n",
       "        text-align: right;\n",
       "    }\n",
       "</style>\n",
       "<table border=\"1\" class=\"dataframe\">\n",
       "  <thead>\n",
       "    <tr style=\"text-align: right;\">\n",
       "      <th></th>\n",
       "      <th>Total</th>\n",
       "      <th>Gas</th>\n",
       "      <th>Liquids</th>\n",
       "      <th>Solids</th>\n",
       "      <th>Cements</th>\n",
       "      <th>Gas Flaring</th>\n",
       "    </tr>\n",
       "    <tr>\n",
       "      <th>Year</th>\n",
       "      <th></th>\n",
       "      <th></th>\n",
       "      <th></th>\n",
       "      <th></th>\n",
       "      <th></th>\n",
       "      <th></th>\n",
       "    </tr>\n",
       "  </thead>\n",
       "  <tbody>\n",
       "    <tr>\n",
       "      <th>2010-01-01</th>\n",
       "      <td>9128</td>\n",
       "      <td>1696</td>\n",
       "      <td>3107</td>\n",
       "      <td>3812</td>\n",
       "      <td>446</td>\n",
       "      <td>67</td>\n",
       "    </tr>\n",
       "    <tr>\n",
       "      <th>2011-01-01</th>\n",
       "      <td>9503</td>\n",
       "      <td>1756</td>\n",
       "      <td>3134</td>\n",
       "      <td>4055</td>\n",
       "      <td>494</td>\n",
       "      <td>64</td>\n",
       "    </tr>\n",
       "    <tr>\n",
       "      <th>2012-01-01</th>\n",
       "      <td>9673</td>\n",
       "      <td>1783</td>\n",
       "      <td>3200</td>\n",
       "      <td>4106</td>\n",
       "      <td>519</td>\n",
       "      <td>65</td>\n",
       "    </tr>\n",
       "    <tr>\n",
       "      <th>2013-01-01</th>\n",
       "      <td>9773</td>\n",
       "      <td>1806</td>\n",
       "      <td>3220</td>\n",
       "      <td>4126</td>\n",
       "      <td>554</td>\n",
       "      <td>68</td>\n",
       "    </tr>\n",
       "    <tr>\n",
       "      <th>2014-01-01</th>\n",
       "      <td>9855</td>\n",
       "      <td>1823</td>\n",
       "      <td>3280</td>\n",
       "      <td>4117</td>\n",
       "      <td>568</td>\n",
       "      <td>68</td>\n",
       "    </tr>\n",
       "  </tbody>\n",
       "</table>\n",
       "</div>"
      ],
      "text/plain": [
       "            Total   Gas  Liquids  Solids  Cements  Gas Flaring\n",
       "Year                                                          \n",
       "2010-01-01   9128  1696     3107    3812      446           67\n",
       "2011-01-01   9503  1756     3134    4055      494           64\n",
       "2012-01-01   9673  1783     3200    4106      519           65\n",
       "2013-01-01   9773  1806     3220    4126      554           68\n",
       "2014-01-01   9855  1823     3280    4117      568           68"
      ]
     },
     "execution_count": 102,
     "metadata": {},
     "output_type": "execute_result"
    }
   ],
   "source": [
    "data.tail(5)"
   ]
  },
  {
   "cell_type": "markdown",
   "metadata": {},
   "source": [
    "# Stage1:Data Preprocessing"
   ]
  },
  {
   "cell_type": "markdown",
   "metadata": {},
   "source": [
    "The steps involved in this stage are:\n",
    "    \n",
    "    1. Check data and fill missing values\n",
    "    2. Check data types and proceed it accordingly\n",
    "    3. Check and fill missing values\n",
    "    4. Looing for outliers\n",
    "    5. Removed unwanted columns"
   ]
  },
  {
   "cell_type": "markdown",
   "metadata": {},
   "source": [
    "Loading dataset setting Year as index"
   ]
  },
  {
   "cell_type": "code",
   "execution_count": 74,
   "metadata": {},
   "outputs": [],
   "source": [
    "#Execution code\n",
    "data = data.set_index('Year')"
   ]
  },
  {
   "cell_type": "code",
   "execution_count": 75,
   "metadata": {},
   "outputs": [
    {
     "data": {
      "text/html": [
       "<div>\n",
       "<style scoped>\n",
       "    .dataframe tbody tr th:only-of-type {\n",
       "        vertical-align: middle;\n",
       "    }\n",
       "\n",
       "    .dataframe tbody tr th {\n",
       "        vertical-align: top;\n",
       "    }\n",
       "\n",
       "    .dataframe thead th {\n",
       "        text-align: right;\n",
       "    }\n",
       "</style>\n",
       "<table border=\"1\" class=\"dataframe\">\n",
       "  <thead>\n",
       "    <tr style=\"text-align: right;\">\n",
       "      <th></th>\n",
       "      <th>Total carbon emissions from fossil fuel consumption and cement production (million metric tons of C)</th>\n",
       "      <th>Carbon emissions from gas fuel consumption</th>\n",
       "      <th>Carbon emissions from liquid fuel consumption</th>\n",
       "      <th>Carbon emissions from solid fuel consumption</th>\n",
       "      <th>Carbon emissions from cement production</th>\n",
       "      <th>Carbon emissions from gas flaring</th>\n",
       "      <th>Per capita carbon emissions (metric tons of carbon; after 1949 only)</th>\n",
       "    </tr>\n",
       "    <tr>\n",
       "      <th>Year</th>\n",
       "      <th></th>\n",
       "      <th></th>\n",
       "      <th></th>\n",
       "      <th></th>\n",
       "      <th></th>\n",
       "      <th></th>\n",
       "      <th></th>\n",
       "    </tr>\n",
       "  </thead>\n",
       "  <tbody>\n",
       "    <tr>\n",
       "      <th>1751</th>\n",
       "      <td>3</td>\n",
       "      <td>0</td>\n",
       "      <td>0</td>\n",
       "      <td>3</td>\n",
       "      <td>0</td>\n",
       "      <td>0</td>\n",
       "      <td>NaN</td>\n",
       "    </tr>\n",
       "    <tr>\n",
       "      <th>1752</th>\n",
       "      <td>3</td>\n",
       "      <td>0</td>\n",
       "      <td>0</td>\n",
       "      <td>3</td>\n",
       "      <td>0</td>\n",
       "      <td>0</td>\n",
       "      <td>NaN</td>\n",
       "    </tr>\n",
       "    <tr>\n",
       "      <th>1753</th>\n",
       "      <td>3</td>\n",
       "      <td>0</td>\n",
       "      <td>0</td>\n",
       "      <td>3</td>\n",
       "      <td>0</td>\n",
       "      <td>0</td>\n",
       "      <td>NaN</td>\n",
       "    </tr>\n",
       "    <tr>\n",
       "      <th>1754</th>\n",
       "      <td>3</td>\n",
       "      <td>0</td>\n",
       "      <td>0</td>\n",
       "      <td>3</td>\n",
       "      <td>0</td>\n",
       "      <td>0</td>\n",
       "      <td>NaN</td>\n",
       "    </tr>\n",
       "    <tr>\n",
       "      <th>1755</th>\n",
       "      <td>3</td>\n",
       "      <td>0</td>\n",
       "      <td>0</td>\n",
       "      <td>3</td>\n",
       "      <td>0</td>\n",
       "      <td>0</td>\n",
       "      <td>NaN</td>\n",
       "    </tr>\n",
       "    <tr>\n",
       "      <th>1756</th>\n",
       "      <td>3</td>\n",
       "      <td>0</td>\n",
       "      <td>0</td>\n",
       "      <td>3</td>\n",
       "      <td>0</td>\n",
       "      <td>0</td>\n",
       "      <td>NaN</td>\n",
       "    </tr>\n",
       "    <tr>\n",
       "      <th>1757</th>\n",
       "      <td>3</td>\n",
       "      <td>0</td>\n",
       "      <td>0</td>\n",
       "      <td>3</td>\n",
       "      <td>0</td>\n",
       "      <td>0</td>\n",
       "      <td>NaN</td>\n",
       "    </tr>\n",
       "    <tr>\n",
       "      <th>1758</th>\n",
       "      <td>3</td>\n",
       "      <td>0</td>\n",
       "      <td>0</td>\n",
       "      <td>3</td>\n",
       "      <td>0</td>\n",
       "      <td>0</td>\n",
       "      <td>NaN</td>\n",
       "    </tr>\n",
       "    <tr>\n",
       "      <th>1759</th>\n",
       "      <td>3</td>\n",
       "      <td>0</td>\n",
       "      <td>0</td>\n",
       "      <td>3</td>\n",
       "      <td>0</td>\n",
       "      <td>0</td>\n",
       "      <td>NaN</td>\n",
       "    </tr>\n",
       "    <tr>\n",
       "      <th>1760</th>\n",
       "      <td>3</td>\n",
       "      <td>0</td>\n",
       "      <td>0</td>\n",
       "      <td>3</td>\n",
       "      <td>0</td>\n",
       "      <td>0</td>\n",
       "      <td>NaN</td>\n",
       "    </tr>\n",
       "  </tbody>\n",
       "</table>\n",
       "</div>"
      ],
      "text/plain": [
       "      Total carbon emissions from fossil fuel consumption and cement production (million metric tons of C)  \\\n",
       "Year                                                                                                         \n",
       "1751                                                  3                                                      \n",
       "1752                                                  3                                                      \n",
       "1753                                                  3                                                      \n",
       "1754                                                  3                                                      \n",
       "1755                                                  3                                                      \n",
       "1756                                                  3                                                      \n",
       "1757                                                  3                                                      \n",
       "1758                                                  3                                                      \n",
       "1759                                                  3                                                      \n",
       "1760                                                  3                                                      \n",
       "\n",
       "      Carbon emissions from gas fuel consumption  \\\n",
       "Year                                               \n",
       "1751                                           0   \n",
       "1752                                           0   \n",
       "1753                                           0   \n",
       "1754                                           0   \n",
       "1755                                           0   \n",
       "1756                                           0   \n",
       "1757                                           0   \n",
       "1758                                           0   \n",
       "1759                                           0   \n",
       "1760                                           0   \n",
       "\n",
       "      Carbon emissions from liquid fuel consumption  \\\n",
       "Year                                                  \n",
       "1751                                              0   \n",
       "1752                                              0   \n",
       "1753                                              0   \n",
       "1754                                              0   \n",
       "1755                                              0   \n",
       "1756                                              0   \n",
       "1757                                              0   \n",
       "1758                                              0   \n",
       "1759                                              0   \n",
       "1760                                              0   \n",
       "\n",
       "      Carbon emissions from solid fuel consumption  \\\n",
       "Year                                                 \n",
       "1751                                             3   \n",
       "1752                                             3   \n",
       "1753                                             3   \n",
       "1754                                             3   \n",
       "1755                                             3   \n",
       "1756                                             3   \n",
       "1757                                             3   \n",
       "1758                                             3   \n",
       "1759                                             3   \n",
       "1760                                             3   \n",
       "\n",
       "      Carbon emissions from cement production  \\\n",
       "Year                                            \n",
       "1751                                        0   \n",
       "1752                                        0   \n",
       "1753                                        0   \n",
       "1754                                        0   \n",
       "1755                                        0   \n",
       "1756                                        0   \n",
       "1757                                        0   \n",
       "1758                                        0   \n",
       "1759                                        0   \n",
       "1760                                        0   \n",
       "\n",
       "      Carbon emissions from gas flaring  \\\n",
       "Year                                      \n",
       "1751                                  0   \n",
       "1752                                  0   \n",
       "1753                                  0   \n",
       "1754                                  0   \n",
       "1755                                  0   \n",
       "1756                                  0   \n",
       "1757                                  0   \n",
       "1758                                  0   \n",
       "1759                                  0   \n",
       "1760                                  0   \n",
       "\n",
       "      Per capita carbon emissions (metric tons of carbon; after 1949 only)  \n",
       "Year                                                                        \n",
       "1751                                                NaN                     \n",
       "1752                                                NaN                     \n",
       "1753                                                NaN                     \n",
       "1754                                                NaN                     \n",
       "1755                                                NaN                     \n",
       "1756                                                NaN                     \n",
       "1757                                                NaN                     \n",
       "1758                                                NaN                     \n",
       "1759                                                NaN                     \n",
       "1760                                                NaN                     "
      ]
     },
     "execution_count": 75,
     "metadata": {},
     "output_type": "execute_result"
    }
   ],
   "source": [
    "data.head(10)"
   ]
  },
  {
   "cell_type": "markdown",
   "metadata": {},
   "source": [
    "We impoted global co2 emissions dataset and set \\\"Year\\\" as an index of our dataset to use time series analysis on it."
   ]
  },
  {
   "cell_type": "markdown",
   "metadata": {},
   "source": [
    "Data Exploration"
   ]
  },
  {
   "cell_type": "markdown",
   "metadata": {},
   "source": [
    "We would like to keep the columns names in our dataset to remember easily, so we need to set our column names as shortened names"
   ]
  },
  {
   "cell_type": "code",
   "execution_count": 80,
   "metadata": {},
   "outputs": [],
   "source": [
    "#Code execution\n",
    "data.rename(columns={'Total carbon emissions from fossil fuel consumption and cement production (million metric tons of C)': 'Total','Carbon emissions from gas fuel consumption':'Gas','Carbon emissions from liquid fuel consumption':'Liquids', 'Carbon emissions from solid fuel consumption':'Solids','Carbon emissions from cement production':'Cements', 'Carbon emissions from gas flaring':'Gas Flaring','Per capita carbon emissions (metric tons of carbon; after 1949 only)':'Per Capita'}, index={'ONE': 'one'}, inplace=True)"
   ]
  },
  {
   "cell_type": "code",
   "execution_count": 81,
   "metadata": {},
   "outputs": [
    {
     "data": {
      "text/html": [
       "<div>\n",
       "<style scoped>\n",
       "    .dataframe tbody tr th:only-of-type {\n",
       "        vertical-align: middle;\n",
       "    }\n",
       "\n",
       "    .dataframe tbody tr th {\n",
       "        vertical-align: top;\n",
       "    }\n",
       "\n",
       "    .dataframe thead th {\n",
       "        text-align: right;\n",
       "    }\n",
       "</style>\n",
       "<table border=\"1\" class=\"dataframe\">\n",
       "  <thead>\n",
       "    <tr style=\"text-align: right;\">\n",
       "      <th></th>\n",
       "      <th>Total</th>\n",
       "      <th>Gas</th>\n",
       "      <th>Liquids</th>\n",
       "      <th>Solids</th>\n",
       "      <th>Cements</th>\n",
       "      <th>Gas Flaring</th>\n",
       "      <th>Per Capita</th>\n",
       "    </tr>\n",
       "    <tr>\n",
       "      <th>Year</th>\n",
       "      <th></th>\n",
       "      <th></th>\n",
       "      <th></th>\n",
       "      <th></th>\n",
       "      <th></th>\n",
       "      <th></th>\n",
       "      <th></th>\n",
       "    </tr>\n",
       "  </thead>\n",
       "  <tbody>\n",
       "    <tr>\n",
       "      <th>1751-01-01</th>\n",
       "      <td>3</td>\n",
       "      <td>0</td>\n",
       "      <td>0</td>\n",
       "      <td>3</td>\n",
       "      <td>0</td>\n",
       "      <td>0</td>\n",
       "      <td>NaN</td>\n",
       "    </tr>\n",
       "    <tr>\n",
       "      <th>1752-01-01</th>\n",
       "      <td>3</td>\n",
       "      <td>0</td>\n",
       "      <td>0</td>\n",
       "      <td>3</td>\n",
       "      <td>0</td>\n",
       "      <td>0</td>\n",
       "      <td>NaN</td>\n",
       "    </tr>\n",
       "    <tr>\n",
       "      <th>1753-01-01</th>\n",
       "      <td>3</td>\n",
       "      <td>0</td>\n",
       "      <td>0</td>\n",
       "      <td>3</td>\n",
       "      <td>0</td>\n",
       "      <td>0</td>\n",
       "      <td>NaN</td>\n",
       "    </tr>\n",
       "    <tr>\n",
       "      <th>1754-01-01</th>\n",
       "      <td>3</td>\n",
       "      <td>0</td>\n",
       "      <td>0</td>\n",
       "      <td>3</td>\n",
       "      <td>0</td>\n",
       "      <td>0</td>\n",
       "      <td>NaN</td>\n",
       "    </tr>\n",
       "    <tr>\n",
       "      <th>1755-01-01</th>\n",
       "      <td>3</td>\n",
       "      <td>0</td>\n",
       "      <td>0</td>\n",
       "      <td>3</td>\n",
       "      <td>0</td>\n",
       "      <td>0</td>\n",
       "      <td>NaN</td>\n",
       "    </tr>\n",
       "  </tbody>\n",
       "</table>\n",
       "</div>"
      ],
      "text/plain": [
       "            Total  Gas  Liquids  Solids  Cements  Gas Flaring  Per Capita\n",
       "Year                                                                     \n",
       "1751-01-01      3    0        0       3        0            0         NaN\n",
       "1752-01-01      3    0        0       3        0            0         NaN\n",
       "1753-01-01      3    0        0       3        0            0         NaN\n",
       "1754-01-01      3    0        0       3        0            0         NaN\n",
       "1755-01-01      3    0        0       3        0            0         NaN"
      ]
     },
     "execution_count": 81,
     "metadata": {},
     "output_type": "execute_result"
    }
   ],
   "source": [
    "#Check the result\n",
    "data.head()"
   ]
  },
  {
   "cell_type": "markdown",
   "metadata": {},
   "source": [
    "Checking the information about our dataset."
   ]
  },
  {
   "cell_type": "code",
   "execution_count": 82,
   "metadata": {},
   "outputs": [
    {
     "name": "stdout",
     "output_type": "stream",
     "text": [
      "<class 'pandas.core.frame.DataFrame'>\n",
      "DatetimeIndex: 264 entries, 1751-01-01 to 2014-01-01\n",
      "Data columns (total 7 columns):\n",
      " #   Column       Non-Null Count  Dtype  \n",
      "---  ------       --------------  -----  \n",
      " 0   Total        264 non-null    int64  \n",
      " 1   Gas          264 non-null    int64  \n",
      " 2   Liquids      264 non-null    int64  \n",
      " 3   Solids       264 non-null    int64  \n",
      " 4   Cements      264 non-null    int64  \n",
      " 5   Gas Flaring  264 non-null    int64  \n",
      " 6   Per Capita   65 non-null     float64\n",
      "dtypes: float64(1), int64(6)\n",
      "memory usage: 16.5 KB\n"
     ]
    }
   ],
   "source": [
    "#Code Execution\n",
    "data.info()"
   ]
  },
  {
   "cell_type": "markdown",
   "metadata": {},
   "source": [
    "Looking at the above data informaion, we only have numeric values so we do not need to do any data formatting.Moreover, this shows that there are 264 rows with 7 columns.Also, you can see that there are some missing values in Per Capita columns and the data types of each columns are int64 except Per Capita which represents float64"
   ]
  },
  {
   "cell_type": "code",
   "execution_count": 83,
   "metadata": {},
   "outputs": [],
   "source": [
    "#data is numeric, fill missing values with mean\n",
    "data['Per Capita'].fillna(data['Per Capita'].mean(),inplace=True)"
   ]
  },
  {
   "cell_type": "markdown",
   "metadata": {},
   "source": [
    "Looking for outliers"
   ]
  },
  {
   "cell_type": "code",
   "execution_count": 84,
   "metadata": {},
   "outputs": [
    {
     "data": {
      "text/plain": [
       "Text(0.5, 0, 'Gas Flaring')"
      ]
     },
     "execution_count": 84,
     "metadata": {},
     "output_type": "execute_result"
    },
    {
     "data": {
      "image/png": "[encoded data removed]",
      "text/plain": [
       "<Figure size 1080x576 with 6 Axes>"
      ]
     },
     "metadata": {},
     "output_type": "display_data"
    }
   ],
   "source": [
    "#Code execution\\n\",\n",
    "plt.figure(figsize=(15, 8))\n",
    "plt.subplots_adjust(hspace=0.4, wspace=0.4)\n",
    "\n",
    "plt.subplot(231)\n",
    "plt.hist( data['Total'],bins=5, density=True,histtype='stepfilled',color='red')\n",
    "plt.xlabel(\"Total\")\n",
    "    \n",
    "    \n",
    "plt.subplot(232)\n",
    "plt.hist( data['Gas'],bins=5, density=True,histtype='stepfilled',color='steelblue')\n",
    "plt.xlabel(\"Gas\")\n",
    "\n",
    "plt.subplot(233)\n",
    "plt.hist( data['Liquids'],bins=5, density=True,histtype='stepfilled',color='blue')\n",
    "plt.xlabel(\"Liquids\")\n",
    "    \n",
    "plt.subplot(234)\n",
    "plt.hist( data['Solids'],bins=5, density=True,histtype='stepfilled',color='yellow')\n",
    "plt.xlabel(\"Solids\")\n",
    "    \n",
    "plt.subplot(235)\n",
    "plt.hist(data['Cements'],bins=5, density=True,histtype='stepfilled',color='black')\n",
    "plt.xlabel(\"Cements\")\n",
    "    \n",
    "plt.subplot(236)\n",
    "plt.hist( data['Gas Flaring'],bins=5, density=True,histtype='stepfilled',color='pink')\n",
    "plt.xlabel(\"Gas Flaring\")"
   ]
  },
  {
   "cell_type": "markdown",
   "metadata": {},
   "source": [
    "Above histograms show that our data are on a finer scale. Additionally, there are no outliers included in this observation"
   ]
  },
  {
   "cell_type": "code",
   "execution_count": 85,
   "metadata": {},
   "outputs": [
    {
     "data": {
      "text/plain": [
       "Total            int64\n",
       "Gas              int64\n",
       "Liquids          int64\n",
       "Solids           int64\n",
       "Cements          int64\n",
       "Gas Flaring      int64\n",
       "Per Capita     float64\n",
       "dtype: object"
      ]
     },
     "execution_count": 85,
     "metadata": {},
     "output_type": "execute_result"
    }
   ],
   "source": [
    "data.dtypes"
   ]
  },
  {
   "cell_type": "code",
   "execution_count": 86,
   "metadata": {},
   "outputs": [
    {
     "data": {
      "text/plain": [
       "<matplotlib.axes._subplots.AxesSubplot at 0x1a3801c4b88>"
      ]
     },
     "execution_count": 86,
     "metadata": {},
     "output_type": "execute_result"
    },
    {
     "data": {
      "image/png": "[encoded data removed]",
      "text/plain": [
       "<Figure size 864x504 with 1 Axes>"
      ]
     },
     "metadata": {},
     "output_type": "display_data"
    }
   ],
   "source": [
    "data['Per Capita'].hist(bins=10,density=True,histtype='stepfilled',color='pink')"
   ]
  },
  {
   "cell_type": "markdown",
   "metadata": {},
   "source": [
    "As can be seen in the histogram plot above,no outliers are displyed on the plot but there is something wrong with the Y-axis.So we went through our source file and found out that data for global per capita are not available before 1950 and emission estimates are expressed in metric tons of carbon.And also,it was not added to on top of Total carbon emissions.Therefore,'Per Capita' will not be used to predict our model. Then, we decided to safely remove it. "
   ]
  },
  {
   "cell_type": "markdown",
   "metadata": {},
   "source": [
    "Removing Unused Columns"
   ]
  },
  {
   "cell_type": "code",
   "execution_count": 87,
   "metadata": {},
   "outputs": [],
   "source": [
    "#Code execution\\n\",\n",
    "#Dropping the unused columns\n",
    "data.drop(columns='Per Capita', inplace=True)"
   ]
  },
  {
   "cell_type": "code",
   "execution_count": 88,
   "metadata": {},
   "outputs": [
    {
     "data": {
      "text/plain": [
       "Total          0\n",
       "Gas            0\n",
       "Liquids        0\n",
       "Solids         0\n",
       "Cements        0\n",
       "Gas Flaring    0\n",
       "dtype: int64"
      ]
     },
     "execution_count": 88,
     "metadata": {},
     "output_type": "execute_result"
    }
   ],
   "source": [
    "#There is no missing values\n",
    "data.isna().sum()"
   ]
  },
  {
   "cell_type": "code",
   "execution_count": 89,
   "metadata": {},
   "outputs": [
    {
     "data": {
      "text/plain": [
       "(264, 6)"
      ]
     },
     "execution_count": 89,
     "metadata": {},
     "output_type": "execute_result"
    }
   ],
   "source": [
    "#return size of rows and cols\n",
    "data.shape"
   ]
  },
  {
   "cell_type": "code",
   "execution_count": 52,
   "metadata": {},
   "outputs": [
    {
     "data": {
      "text/plain": [
       "Int64Index([1751, 1752, 1753, 1754, 1755, 1756, 1757, 1758, 1759, 1760,\n",
       "            ...\n",
       "            2005, 2006, 2007, 2008, 2009, 2010, 2011, 2012, 2013, 2014],\n",
       "           dtype='int64', name='Year', length=264)"
      ]
     },
     "execution_count": 52,
     "metadata": {},
     "output_type": "execute_result"
    }
   ],
   "source": [
    "data.index"
   ]
  },
  {
   "cell_type": "code",
   "execution_count": 90,
   "metadata": {},
   "outputs": [
    {
     "data": {
      "text/plain": [
       "Index(['Total', 'Gas', 'Liquids', 'Solids', 'Cements', 'Gas Flaring'], dtype='object')"
      ]
     },
     "execution_count": 90,
     "metadata": {},
     "output_type": "execute_result"
    }
   ],
   "source": [
    "data.columns"
   ]
  },
  {
   "cell_type": "code",
   "execution_count": 91,
   "metadata": {},
   "outputs": [
    {
     "data": {
      "text/plain": [
       "Total          int64\n",
       "Gas            int64\n",
       "Liquids        int64\n",
       "Solids         int64\n",
       "Cements        int64\n",
       "Gas Flaring    int64\n",
       "dtype: object"
      ]
     },
     "execution_count": 91,
     "metadata": {},
     "output_type": "execute_result"
    }
   ],
   "source": [
    "data.dtypes"
   ]
  },
  {
   "cell_type": "code",
   "execution_count": 92,
   "metadata": {},
   "outputs": [
    {
     "data": {
      "text/plain": [
       "Total          0\n",
       "Gas            0\n",
       "Liquids        0\n",
       "Solids         0\n",
       "Cements        0\n",
       "Gas Flaring    0\n",
       "dtype: int64"
      ]
     },
     "execution_count": 92,
     "metadata": {},
     "output_type": "execute_result"
    }
   ],
   "source": [
    "#find missing values\n",
    "data.isna().sum()"
   ]
  },
  {
   "cell_type": "markdown",
   "metadata": {},
   "source": [
    "There is no missing values in our global dataset"
   ]
  },
  {
   "cell_type": "code",
   "execution_count": 93,
   "metadata": {},
   "outputs": [
    {
     "data": {
      "text/html": [
       "<div>\n",
       "<style scoped>\n",
       "    .dataframe tbody tr th:only-of-type {\n",
       "        vertical-align: middle;\n",
       "    }\n",
       "\n",
       "    .dataframe tbody tr th {\n",
       "        vertical-align: top;\n",
       "    }\n",
       "\n",
       "    .dataframe thead th {\n",
       "        text-align: right;\n",
       "    }\n",
       "</style>\n",
       "<table border=\"1\" class=\"dataframe\">\n",
       "  <thead>\n",
       "    <tr style=\"text-align: right;\">\n",
       "      <th></th>\n",
       "      <th>Total</th>\n",
       "      <th>Gas</th>\n",
       "      <th>Liquids</th>\n",
       "      <th>Solids</th>\n",
       "      <th>Cements</th>\n",
       "      <th>Gas Flaring</th>\n",
       "    </tr>\n",
       "    <tr>\n",
       "      <th>Year</th>\n",
       "      <th></th>\n",
       "      <th></th>\n",
       "      <th></th>\n",
       "      <th></th>\n",
       "      <th></th>\n",
       "      <th></th>\n",
       "    </tr>\n",
       "  </thead>\n",
       "  <tbody>\n",
       "    <tr>\n",
       "      <th>1751-01-01</th>\n",
       "      <td>True</td>\n",
       "      <td>True</td>\n",
       "      <td>True</td>\n",
       "      <td>True</td>\n",
       "      <td>True</td>\n",
       "      <td>True</td>\n",
       "    </tr>\n",
       "    <tr>\n",
       "      <th>1752-01-01</th>\n",
       "      <td>True</td>\n",
       "      <td>True</td>\n",
       "      <td>True</td>\n",
       "      <td>True</td>\n",
       "      <td>True</td>\n",
       "      <td>True</td>\n",
       "    </tr>\n",
       "    <tr>\n",
       "      <th>1753-01-01</th>\n",
       "      <td>True</td>\n",
       "      <td>True</td>\n",
       "      <td>True</td>\n",
       "      <td>True</td>\n",
       "      <td>True</td>\n",
       "      <td>True</td>\n",
       "    </tr>\n",
       "    <tr>\n",
       "      <th>1754-01-01</th>\n",
       "      <td>True</td>\n",
       "      <td>True</td>\n",
       "      <td>True</td>\n",
       "      <td>True</td>\n",
       "      <td>True</td>\n",
       "      <td>True</td>\n",
       "    </tr>\n",
       "    <tr>\n",
       "      <th>1755-01-01</th>\n",
       "      <td>True</td>\n",
       "      <td>True</td>\n",
       "      <td>True</td>\n",
       "      <td>True</td>\n",
       "      <td>True</td>\n",
       "      <td>True</td>\n",
       "    </tr>\n",
       "    <tr>\n",
       "      <th>...</th>\n",
       "      <td>...</td>\n",
       "      <td>...</td>\n",
       "      <td>...</td>\n",
       "      <td>...</td>\n",
       "      <td>...</td>\n",
       "      <td>...</td>\n",
       "    </tr>\n",
       "    <tr>\n",
       "      <th>2010-01-01</th>\n",
       "      <td>True</td>\n",
       "      <td>True</td>\n",
       "      <td>True</td>\n",
       "      <td>True</td>\n",
       "      <td>True</td>\n",
       "      <td>True</td>\n",
       "    </tr>\n",
       "    <tr>\n",
       "      <th>2011-01-01</th>\n",
       "      <td>True</td>\n",
       "      <td>True</td>\n",
       "      <td>True</td>\n",
       "      <td>True</td>\n",
       "      <td>True</td>\n",
       "      <td>True</td>\n",
       "    </tr>\n",
       "    <tr>\n",
       "      <th>2012-01-01</th>\n",
       "      <td>True</td>\n",
       "      <td>True</td>\n",
       "      <td>True</td>\n",
       "      <td>True</td>\n",
       "      <td>True</td>\n",
       "      <td>True</td>\n",
       "    </tr>\n",
       "    <tr>\n",
       "      <th>2013-01-01</th>\n",
       "      <td>True</td>\n",
       "      <td>True</td>\n",
       "      <td>True</td>\n",
       "      <td>True</td>\n",
       "      <td>True</td>\n",
       "      <td>True</td>\n",
       "    </tr>\n",
       "    <tr>\n",
       "      <th>2014-01-01</th>\n",
       "      <td>True</td>\n",
       "      <td>True</td>\n",
       "      <td>True</td>\n",
       "      <td>True</td>\n",
       "      <td>True</td>\n",
       "      <td>True</td>\n",
       "    </tr>\n",
       "  </tbody>\n",
       "</table>\n",
       "<p>264 rows × 6 columns</p>\n",
       "</div>"
      ],
      "text/plain": [
       "            Total   Gas  Liquids  Solids  Cements  Gas Flaring\n",
       "Year                                                          \n",
       "1751-01-01   True  True     True    True     True         True\n",
       "1752-01-01   True  True     True    True     True         True\n",
       "1753-01-01   True  True     True    True     True         True\n",
       "1754-01-01   True  True     True    True     True         True\n",
       "1755-01-01   True  True     True    True     True         True\n",
       "...           ...   ...      ...     ...      ...          ...\n",
       "2010-01-01   True  True     True    True     True         True\n",
       "2011-01-01   True  True     True    True     True         True\n",
       "2012-01-01   True  True     True    True     True         True\n",
       "2013-01-01   True  True     True    True     True         True\n",
       "2014-01-01   True  True     True    True     True         True\n",
       "\n",
       "[264 rows x 6 columns]"
      ]
     },
     "execution_count": 93,
     "metadata": {},
     "output_type": "execute_result"
    }
   ],
   "source": [
    "data.notnull()"
   ]
  },
  {
   "cell_type": "markdown",
   "metadata": {},
   "source": [
    "We can see that our data looks fine, all columns count is at 264. This means that there are no missing values.\n"
   ]
  },
  {
   "cell_type": "markdown",
   "metadata": {},
   "source": [
    "# Stage 2:Data Analysis"
   ]
  },
  {
   "cell_type": "markdown",
   "metadata": {},
   "source": [
    "The steps involved in this stage are:\n",
    "        1. Basic Data Analysis\n",
    "        2. Visualization Analysis"
   ]
  },
  {
   "cell_type": "markdown",
   "metadata": {},
   "source": [
    "Basic Data Analysis "
   ]
  },
  {
   "cell_type": "code",
   "execution_count": 94,
   "metadata": {},
   "outputs": [
    {
     "data": {
      "text/html": [
       "<div>\n",
       "<style scoped>\n",
       "    .dataframe tbody tr th:only-of-type {\n",
       "        vertical-align: middle;\n",
       "    }\n",
       "\n",
       "    .dataframe tbody tr th {\n",
       "        vertical-align: top;\n",
       "    }\n",
       "\n",
       "    .dataframe thead th {\n",
       "        text-align: right;\n",
       "    }\n",
       "</style>\n",
       "<table border=\"1\" class=\"dataframe\">\n",
       "  <thead>\n",
       "    <tr style=\"text-align: right;\">\n",
       "      <th></th>\n",
       "      <th>Total</th>\n",
       "      <th>Gas</th>\n",
       "      <th>Liquids</th>\n",
       "      <th>Solids</th>\n",
       "      <th>Cements</th>\n",
       "      <th>Gas Flaring</th>\n",
       "    </tr>\n",
       "  </thead>\n",
       "  <tbody>\n",
       "    <tr>\n",
       "      <th>count</th>\n",
       "      <td>264.000000</td>\n",
       "      <td>264.000000</td>\n",
       "      <td>264.000000</td>\n",
       "      <td>264.000000</td>\n",
       "      <td>264.000000</td>\n",
       "      <td>264.000000</td>\n",
       "    </tr>\n",
       "    <tr>\n",
       "      <th>mean</th>\n",
       "      <td>1522.984848</td>\n",
       "      <td>209.166667</td>\n",
       "      <td>536.609848</td>\n",
       "      <td>721.541667</td>\n",
       "      <td>41.723485</td>\n",
       "      <td>13.969697</td>\n",
       "    </tr>\n",
       "    <tr>\n",
       "      <th>std</th>\n",
       "      <td>2444.152273</td>\n",
       "      <td>439.181345</td>\n",
       "      <td>984.092272</td>\n",
       "      <td>949.056349</td>\n",
       "      <td>99.373720</td>\n",
       "      <td>27.029892</td>\n",
       "    </tr>\n",
       "    <tr>\n",
       "      <th>min</th>\n",
       "      <td>3.000000</td>\n",
       "      <td>0.000000</td>\n",
       "      <td>0.000000</td>\n",
       "      <td>3.000000</td>\n",
       "      <td>0.000000</td>\n",
       "      <td>0.000000</td>\n",
       "    </tr>\n",
       "    <tr>\n",
       "      <th>25%</th>\n",
       "      <td>13.750000</td>\n",
       "      <td>0.000000</td>\n",
       "      <td>0.000000</td>\n",
       "      <td>13.750000</td>\n",
       "      <td>0.000000</td>\n",
       "      <td>0.000000</td>\n",
       "    </tr>\n",
       "    <tr>\n",
       "      <th>50%</th>\n",
       "      <td>264.000000</td>\n",
       "      <td>0.000000</td>\n",
       "      <td>4.000000</td>\n",
       "      <td>260.500000</td>\n",
       "      <td>0.000000</td>\n",
       "      <td>0.000000</td>\n",
       "    </tr>\n",
       "    <tr>\n",
       "      <th>75%</th>\n",
       "      <td>1431.500000</td>\n",
       "      <td>77.250000</td>\n",
       "      <td>362.500000</td>\n",
       "      <td>1064.750000</td>\n",
       "      <td>14.500000</td>\n",
       "      <td>0.000000</td>\n",
       "    </tr>\n",
       "    <tr>\n",
       "      <th>max</th>\n",
       "      <td>9855.000000</td>\n",
       "      <td>1823.000000</td>\n",
       "      <td>3280.000000</td>\n",
       "      <td>4126.000000</td>\n",
       "      <td>568.000000</td>\n",
       "      <td>110.000000</td>\n",
       "    </tr>\n",
       "  </tbody>\n",
       "</table>\n",
       "</div>"
      ],
      "text/plain": [
       "             Total          Gas      Liquids       Solids     Cements  \\\n",
       "count   264.000000   264.000000   264.000000   264.000000  264.000000   \n",
       "mean   1522.984848   209.166667   536.609848   721.541667   41.723485   \n",
       "std    2444.152273   439.181345   984.092272   949.056349   99.373720   \n",
       "min       3.000000     0.000000     0.000000     3.000000    0.000000   \n",
       "25%      13.750000     0.000000     0.000000    13.750000    0.000000   \n",
       "50%     264.000000     0.000000     4.000000   260.500000    0.000000   \n",
       "75%    1431.500000    77.250000   362.500000  1064.750000   14.500000   \n",
       "max    9855.000000  1823.000000  3280.000000  4126.000000  568.000000   \n",
       "\n",
       "       Gas Flaring  \n",
       "count   264.000000  \n",
       "mean     13.969697  \n",
       "std      27.029892  \n",
       "min       0.000000  \n",
       "25%       0.000000  \n",
       "50%       0.000000  \n",
       "75%       0.000000  \n",
       "max     110.000000  "
      ]
     },
     "execution_count": 94,
     "metadata": {},
     "output_type": "execute_result"
    }
   ],
   "source": [
    "#Execution code\n",
    "data.describe()"
   ]
  },
  {
   "cell_type": "markdown",
   "metadata": {},
   "source": [
    "We can see that our data looks fine, all columns count is at 264. This means that there are no missing values.\n",
    "We can also use the mean from each soucre to find the CO2 distributions, which will later on be used for computaions."
   ]
  },
  {
   "cell_type": "markdown",
   "metadata": {},
   "source": [
    "Visualization Analysis"
   ]
  },
  {
   "cell_type": "markdown",
   "metadata": {},
   "source": [
    "To get a clear picture of what is going on with the data, it is best to use plots and do visualization analysis."
   ]
  },
  {
   "cell_type": "code",
   "execution_count": 95,
   "metadata": {},
   "outputs": [
    {
     "data": {
      "text/plain": [
       "<matplotlib.legend.Legend at 0x1a3804b2288>"
      ]
     },
     "execution_count": 95,
     "metadata": {},
     "output_type": "execute_result"
    },
    {
     "data": {
      "image/png": "[encoded data removed]",
      "text/plain": [
       "<Figure size 864x504 with 1 Axes>"
      ]
     },
     "metadata": {},
     "output_type": "display_data"
    }
   ],
   "source": [
    "#Visualizing code\n",
    "plt.figure()\n",
    "ax = plt.axes()\n",
    "ax.set_title('Total Carbon Emission', fontsize=20)\n",
    "ax.plot(data['Total'], label= 'million metric tons of carbon')\n",
    "ax.legend()"
   ]
  },
  {
   "cell_type": "markdown",
   "metadata": {},
   "source": [
    "The carbon distribution seems to follow a pattern. It goes up at the beginning of the year unil the end of it."
   ]
  },
  {
   "cell_type": "code",
   "execution_count": 96,
   "metadata": {},
   "outputs": [
    {
     "data": {
      "text/plain": [
       "[<matplotlib.lines.Line2D at 0x1a3804d8708>]"
      ]
     },
     "execution_count": 96,
     "metadata": {},
     "output_type": "execute_result"
    },
    {
     "data": {
      "image/png": "[encoded data removed]",
      "text/plain": [
       "<Figure size 864x504 with 1 Axes>"
      ]
     },
     "metadata": {},
     "output_type": "display_data"
    }
   ],
   "source": [
    "#Visualizing code\n",
    "plt.figure()\n",
    "ax = plt.axes()\n",
    "ax.set_title('Total Energy 1920-1960', fontsize=20)\n",
    "ax.plot(data.Total) #need to fix this"
   ]
  },
  {
   "cell_type": "markdown",
   "metadata": {},
   "source": [
    "Above graph displys that the carbon consumption fluctuated between 1920 and 1950. Form 1950, the trend line dramatically increased at the end of the period."
   ]
  },
  {
   "cell_type": "markdown",
   "metadata": {},
   "source": [
    "# Time-series decomposition\n",
    "This is a technique called 'Time Series Decomposition', it can be used to help analyze our the data's trend, seasonality and noise and  it helps to improve forecast accuracy"
   ]
  },
  {
   "cell_type": "code",
   "execution_count": 97,
   "metadata": {},
   "outputs": [
    {
     "data": {
      "image/png": "[encoded data removed]",
      "text/plain": [
       "<Figure size 864x504 with 4 Axes>"
      ]
     },
     "metadata": {},
     "output_type": "display_data"
    }
   ],
   "source": [
    "#Visualizing code\n",
    "decomposition = smt.seasonal_decompose(data['Total'], model='additive', freq=15)\n",
    "fig = decomposition.plot()\n",
    "plt.show()"
   ]
  },
  {
   "cell_type": "markdown",
   "metadata": {},
   "source": [
    "The plot above clearly shows that the emissions of carbon is unstable, along with its obvious seasonality.The graph shows that seasonality has an effect on Carbon emissions. This proves that something is causing the carbon emissions to go up and down regularly."
   ]
  },
  {
   "cell_type": "code",
   "execution_count": 98,
   "metadata": {},
   "outputs": [
    {
     "data": {
      "image/png": "[encoded data removed]",
      "text/plain": [
       "<Figure size 864x504 with 3 Axes>"
      ]
     },
     "metadata": {},
     "output_type": "display_data"
    }
   ],
   "source": [
    "#Visualizing code\\n\",\n",
    "    \n",
    "fig,ax = plt.subplots(3)\n",
    "ax[0].set_title('Energy Consumption')\n",
    "ax[0].plot(data['Total'],label='Total')\n",
    "ax[1].plot(data['Gas'],label='Gas')\n",
    "ax[1].plot(data['Liquids'],label='Liquids')\n",
    "ax[1].plot(data['Solids'],label='Solids')\n",
    "ax[2].plot(data['Cements'],label='Cements')\n",
    "ax[2].plot(data['Gas Flaring'],label='Gas Flaring')\n",
    "ax[0].legend()\n",
    "ax[1].legend()\n",
    "ax[2].legend()\n",
    "plt.show()"
   ]
  },
  {
   "cell_type": "markdown",
   "metadata": {},
   "source": [
    "# Stage 3 : Forecasting\n",
    "Models that will be used: Triple Exponential Smoothing Moving Average, Autoregressive Moving Average, and Seasonal Autoregressive Integrated Moving Average."
   ]
  },
  {
   "cell_type": "markdown",
   "metadata": {},
   "source": [
    "The steps involved in this stage are:\n",
    "    1. Creating the models\n",
    "    2. Comparing the models"
   ]
  },
  {
   "cell_type": "markdown",
   "metadata": {},
   "source": [
    "# Creating the Models"
   ]
  },
  {
   "cell_type": "markdown",
   "metadata": {},
   "source": [
    "# Triple Exponential Smoothing Moving Average\n",
    "\n",
    "Triple Exponential Smoothing Moving Average is a good model to set our baseline on, since this model is basically moving average model that takes into account the data's weight, trend, and seasonality. It also has another name, Holt Winter’s Expone"
   ]
  },
  {
   "cell_type": "code",
   "execution_count": 99,
   "metadata": {},
   "outputs": [
    {
     "data": {
      "image/png": "[encoded data removed]",
      "text/plain": [
       "<Figure size 864x504 with 1 Axes>"
      ]
     },
     "metadata": {},
     "output_type": "display_data"
    }
   ],
   "source": [
    "#Execution Code\\n\",\n",
    "moving_avg = data.rolling(12).mean()\n",
    "plt.figure()\n",
    "plt.plot(data['Total'], label= 'Observed')\n",
    "plt.plot(moving_avg['Total'], label= 'Moving Average')\n",
    "plt.legend();"
   ]
  },
  {
   "cell_type": "markdown",
   "metadata": {},
   "source": [
    "The graph illustrated above is the moving average of our data in the time frame of 12 months. This graph can help us understand the direction of where our data is heading. But it is very crude and can only predict simple directions. However, this graph shows the basis in which our Triple Exponential Smoothing Moving Average is built upon."
   ]
  },
  {
   "cell_type": "markdown",
   "metadata": {},
   "source": [
    "Now we can start building our Triple Exponential Smoothing Moving Average model. We will be using TESMA as it's abbreviation."
   ]
  },
  {
   "cell_type": "code",
   "execution_count": 103,
   "metadata": {},
   "outputs": [],
   "source": [
    "#Surpress Warnings\n",
    "warnings.filterwarnings('ignore')\n",
    "\n",
    "#Execution Code\n",
    "model = ExponentialSmoothing(data['Total'],trend='additive')\n",
    "model_TESMA = model.fit()\n",
    "pred = HoltWintersResults.predict(model_TESMA,start='1751-01-01', end='2014-01-01')\n",
    "temp = data.copy()\n",
    "temp['pred'] = pred"
   ]
  },
  {
   "cell_type": "code",
   "execution_count": 104,
   "metadata": {},
   "outputs": [
    {
     "data": {
      "image/png": "[encoded data removed]",
      "text/plain": [
       "<Figure size 864x504 with 1 Axes>"
      ]
     },
     "metadata": {},
     "output_type": "display_data"
    }
   ],
   "source": [
    "#Visualizing code\n",
    "plt.figure()\n",
    "\n",
    "plt.plot(data['Total'], label='Observed')\n",
    "plt.plot(temp['pred'], label='Predicted')\n",
    "\n",
    "plt.legend();"
   ]
  },
  {
   "cell_type": "markdown",
   "metadata": {},
   "source": [
    "# Seasonal Autoregressive Integrated Moving Average"
   ]
  },
  {
   "cell_type": "markdown",
   "metadata": {},
   "source": [
    "# Autoregressive Moving Average"
   ]
  },
  {
   "cell_type": "code",
   "execution_count": null,
   "metadata": {},
   "outputs": [],
   "source": []
  },
  {
   "cell_type": "code",
   "execution_count": null,
   "metadata": {},
   "outputs": [],
   "source": []
  },
  {
   "cell_type": "code",
   "execution_count": null,
   "metadata": {},
   "outputs": [],
   "source": []
  },
  {
   "cell_type": "code",
   "execution_count": null,
   "metadata": {},
   "outputs": [],
   "source": []
  },
  {
   "cell_type": "code",
   "execution_count": null,
   "metadata": {},
   "outputs": [],
   "source": []
  },
  {
   "cell_type": "code",
   "execution_count": null,
   "metadata": {},
   "outputs": [],
   "source": []
  }
 ],
 "metadata": {
  "kernelspec": {
   "display_name": "Python 3",
   "language": "python",
   "name": "python3"
  },
  "language_info": {
   "codemirror_mode": {
    "name": "ipython",
    "version": 3
   },
   "file_extension": ".py",
   "mimetype": "text/x-python",
   "name": "python",
   "nbconvert_exporter": "python",
   "pygments_lexer": "ipython3",
   "version": "3.7.7"
  }
 },
 "nbformat": 4,
 "nbformat_minor": 4
}
